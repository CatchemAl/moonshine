{
 "cells": [
  {
   "cell_type": "markdown",
   "metadata": {},
   "source": [
    "## Using moonshine\n",
    "\n",
    " - Using the Python Debug Console in VSCode (or the Anaconda terminal), `cd` to the root of the project:\n",
    "   - ~\\Documents\\Python Projects\\moonshine\n",
    "   \n",
    "   \n",
    " - Choose the right environment `activate moonshine37`\n",
    " \n",
    " \n",
    " - To install the package:\n",
    "   - into the Conda virtual environment, `pip install .` which copies the package to ~AppData\\Local\\Continuum\\anaconda3\\envs\\moonshine37\\Lib\\site&#8209;packages\n",
    "   - as symbolic links for active development, `pip install --editable .` or simply `pip install -e .`\n",
    "   \n",
    "   \n",
    " - The Jupyter kernel will need to be restarted after any edits (CTRL+Shift+P). If the packages are installed via `pip install .`, the command will also need to be rerun for the changes to propagate.\n",
    " \n",
    "#### Useful links:\n",
    " - Sample setup project: https://github.com/kennethreitz/setup.py\n",
    " - Useful answer: https://stackoverflow.com/a/39811884/2375829\n",
    " - Packaging docs: https://python-packaging.readthedocs.io/en/latest/minimal.html"
   ]
  },
  {
   "cell_type": "code",
   "execution_count": 1,
   "metadata": {},
   "outputs": [
    {
     "ename": "ModuleNotFoundError",
     "evalue": "No module named 'moonshine'",
     "output_type": "error",
     "traceback": [
      "\u001b[1;31m---------------------------------------------------------------------------\u001b[0m",
      "\u001b[1;31mModuleNotFoundError\u001b[0m                       Traceback (most recent call last)",
      "\u001b[1;32m<ipython-input-1-7f767dc26076>\u001b[0m in \u001b[0;36m<module>\u001b[1;34m\u001b[0m\n\u001b[1;32m----> 1\u001b[1;33m \u001b[1;32mimport\u001b[0m \u001b[0mmoonshine\u001b[0m \u001b[1;32mas\u001b[0m \u001b[0mms\u001b[0m\u001b[1;33m\u001b[0m\u001b[1;33m\u001b[0m\u001b[0m\n\u001b[0m\u001b[0;32m      2\u001b[0m \u001b[1;32mimport\u001b[0m \u001b[0mnumpy\u001b[0m \u001b[1;32mas\u001b[0m \u001b[0mnp\u001b[0m\u001b[1;33m\u001b[0m\u001b[1;33m\u001b[0m\u001b[0m\n\u001b[0;32m      3\u001b[0m \u001b[1;32mimport\u001b[0m \u001b[0mpandas\u001b[0m \u001b[1;32mas\u001b[0m \u001b[0mpd\u001b[0m\u001b[1;33m\u001b[0m\u001b[1;33m\u001b[0m\u001b[0m\n\u001b[0;32m      4\u001b[0m \u001b[1;33m\u001b[0m\u001b[0m\n\u001b[0;32m      5\u001b[0m \u001b[1;32mfrom\u001b[0m \u001b[0mipywidgets\u001b[0m \u001b[1;32mimport\u001b[0m \u001b[0minteract\u001b[0m\u001b[1;33m\u001b[0m\u001b[1;33m\u001b[0m\u001b[0m\n",
      "\u001b[1;31mModuleNotFoundError\u001b[0m: No module named 'moonshine'"
     ]
    }
   ],
   "source": [
    "import moonshine as ms\n",
    "import numpy as np\n",
    "import pandas as pd\n",
    "\n",
    "from ipywidgets import interact"
   ]
  },
  {
   "cell_type": "code",
   "execution_count": null,
   "metadata": {},
   "outputs": [],
   "source": [
    "@interact(tenor = (0.0, 50.0))\n",
    "def price(tenor: float) -> float:\n",
    "    return ms.price_cashflow(100, 0.02, tenor)"
   ]
  },
  {
   "cell_type": "code",
   "execution_count": null,
   "metadata": {},
   "outputs": [],
   "source": [
    "values = np.random.normal(size=(100,3))\n",
    "df = pd.DataFrame(values, columns=['A','B','C'])\n",
    "rows = len(df)\n",
    "view = 10\n",
    "\n",
    "@interact(row=(0, rows-view))\n",
    "def scroll_table(row):\n",
    "    return df.iloc[row:row+view]"
   ]
  },
  {
   "cell_type": "code",
   "execution_count": null,
   "metadata": {},
   "outputs": [],
   "source": []
  }
 ],
 "metadata": {
  "kernelspec": {
   "display_name": "Python 3",
   "language": "python",
   "name": "python3"
  },
  "language_info": {
   "codemirror_mode": {
    "name": "ipython",
    "version": 3
   },
   "file_extension": ".py",
   "mimetype": "text/x-python",
   "name": "python",
   "nbconvert_exporter": "python",
   "pygments_lexer": "ipython3",
   "version": "3.7.3"
  }
 },
 "nbformat": 4,
 "nbformat_minor": 2
}
