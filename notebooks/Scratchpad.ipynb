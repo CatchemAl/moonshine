{
 "cells": [
  {
   "cell_type": "markdown",
   "metadata": {},
   "source": [
    "## Using moonshine\n",
    "\n",
    " - Using the Python Debug Console in VSCode (or the Anaconda terminal), `cd` to the root of the project:\n",
    "   - ~\\Documents\\Python Projects\\moonshine\n",
    "   \n",
    "   \n",
    " - Choose the right environment `activate moonshine37`\n",
    " \n",
    " \n",
    " - To install the package:\n",
    "   - into the Conda virtual environment, `pip install .` which copies the package to ~AppData\\Local\\Continuum\\anaconda3\\envs\\moonshine37\\Lib\\site&#8209;packages\n",
    "   - as symbolic links for active development, `pip install --editable .` or simply `pip install -e .`\n",
    "   \n",
    "   \n",
    " - The Jupyter kernel will need to be restarted after any edits (CTRL+Shift+P). If the packages are installed via `pip install .`, the command will also need to be rerun for the changes to propagate.\n",
    " \n",
    "#### Useful links:\n",
    " - Sample setup project: https://github.com/kennethreitz/setup.py\n",
    " - Useful answer: https://stackoverflow.com/a/39811884/2375829\n",
    " - Packaging docs: https://python-packaging.readthedocs.io/en/latest/minimal.html"
   ]
  },
  {
   "cell_type": "code",
   "execution_count": 7,
   "metadata": {},
   "outputs": [],
   "source": [
    "import moonshine as ms\n",
    "import numpy as np\n",
    "import pandas as pd\n",
    "\n",
    "from ipywidgets import interact"
   ]
  },
  {
   "cell_type": "code",
   "execution_count": 9,
   "metadata": {},
   "outputs": [
    {
     "data": {
      "application/vnd.jupyter.widget-view+json": {
       "model_id": "54d4a91ddd8d42ee8ca7a25c4a80f681",
       "version_major": 2,
       "version_minor": 0
      },
      "text/plain": [
       "interactive(children=(FloatSlider(value=25.0, description='tenor', max=50.0), Output()), _dom_classes=('widget…"
      ]
     },
     "metadata": {},
     "output_type": "display_data"
    }
   ],
   "source": [
    "@interact(tenor = (0.0, 50.0))\n",
    "def price(tenor: float) -> float:\n",
    "    return ms.price_cashflow(100, 0.02, tenor)"
   ]
  },
  {
   "cell_type": "code",
   "execution_count": 15,
   "metadata": {},
   "outputs": [
    {
     "data": {
      "application/vnd.jupyter.widget-view+json": {
       "model_id": "1e322e77381649dcbadab315a05ec36e",
       "version_major": 2,
       "version_minor": 0
      },
      "text/plain": [
       "interactive(children=(IntSlider(value=45, description='row', max=90), Output()), _dom_classes=('widget-interac…"
      ]
     },
     "metadata": {},
     "output_type": "display_data"
    }
   ],
   "source": [
    "values = np.random.normal(size=(100,3))\n",
    "df = pd.DataFrame(values, columns=['A','B','C'])\n",
    "rows = len(df)\n",
    "view = 10\n",
    "\n",
    "@interact(row=(0, rows-view))\n",
    "def scroll_table(row):\n",
    "    return df.iloc[row:row+view]"
   ]
  }
 ],
 "metadata": {
  "kernelspec": {
   "display_name": "Python 3",
   "language": "python",
   "name": "python3"
  },
  "language_info": {
   "codemirror_mode": {
    "name": "ipython",
    "version": 3
   },
   "file_extension": ".py",
   "mimetype": "text/x-python",
   "name": "python",
   "nbconvert_exporter": "python",
   "pygments_lexer": "ipython3",
   "version": "3.7.3"
  }
 },
 "nbformat": 4,
 "nbformat_minor": 2
}
